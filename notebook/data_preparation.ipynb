{
 "cells": [
  {
   "cell_type": "markdown",
   "metadata": {},
   "source": [
    "# Data Preprocessing and Preparation for Analysis"
   ]
  },
  {
   "cell_type": "code",
   "execution_count": 60,
   "metadata": {},
   "outputs": [],
   "source": [
    "#Improt the necessary library\n",
    "import pandas as pd"
   ]
  },
  {
   "cell_type": "markdown",
   "metadata": {},
   "source": [
    "## Load dataset"
   ]
  },
  {
   "cell_type": "code",
   "execution_count": 61,
   "metadata": {},
   "outputs": [],
   "source": [
    "df = pd.read_csv(\"../data/Amazon Best Sellers.csv\")"
   ]
  },
  {
   "cell_type": "code",
   "execution_count": 62,
   "metadata": {},
   "outputs": [
    {
     "data": {
      "text/plain": [
       "(600, 14)"
      ]
     },
     "execution_count": 62,
     "metadata": {},
     "output_type": "execute_result"
    }
   ],
   "source": [
    "df.shape"
   ]
  },
  {
   "cell_type": "code",
   "execution_count": 63,
   "metadata": {},
   "outputs": [
    {
     "data": {
      "text/html": [
       "<div>\n",
       "<style scoped>\n",
       "    .dataframe tbody tr th:only-of-type {\n",
       "        vertical-align: middle;\n",
       "    }\n",
       "\n",
       "    .dataframe tbody tr th {\n",
       "        vertical-align: top;\n",
       "    }\n",
       "\n",
       "    .dataframe thead th {\n",
       "        text-align: right;\n",
       "    }\n",
       "</style>\n",
       "<table border=\"1\" class=\"dataframe\">\n",
       "  <thead>\n",
       "    <tr style=\"text-align: right;\">\n",
       "      <th></th>\n",
       "      <th>Product Url</th>\n",
       "      <th>Product Name</th>\n",
       "      <th>Brand</th>\n",
       "      <th>Product ID</th>\n",
       "      <th>Price</th>\n",
       "      <th>Rating</th>\n",
       "      <th>Number of Reviews</th>\n",
       "      <th>Parent Category</th>\n",
       "      <th>Sub Category</th>\n",
       "      <th>Sales Rank(in parent category)</th>\n",
       "      <th>Sales Rank(in sub category)</th>\n",
       "      <th>Release Date</th>\n",
       "      <th>Country of Origin</th>\n",
       "      <th>Purchased in Last Month</th>\n",
       "    </tr>\n",
       "  </thead>\n",
       "  <tbody>\n",
       "    <tr>\n",
       "      <th>0</th>\n",
       "      <td>https://www.amazon.com/Hanes-Ecosmart-Fleece-S...</td>\n",
       "      <td>Hanes EcoSmart Fleece, Cotton-Blend Pullover, ...</td>\n",
       "      <td>Hanes</td>\n",
       "      <td>B01L8JJ57U</td>\n",
       "      <td>11.98</td>\n",
       "      <td>4.5</td>\n",
       "      <td>150640.0</td>\n",
       "      <td>Clothing, Shoes &amp; Jewelry</td>\n",
       "      <td>Men's Fashion</td>\n",
       "      <td>1.0</td>\n",
       "      <td>1.0</td>\n",
       "      <td>14-Jul-22</td>\n",
       "      <td>El Salvador</td>\n",
       "      <td>8000.0</td>\n",
       "    </tr>\n",
       "    <tr>\n",
       "      <th>1</th>\n",
       "      <td>https://www.amazon.com/TNNZEET-Waisted-Printed...</td>\n",
       "      <td>High Waisted Leggings for Women - No See Throu...</td>\n",
       "      <td>TNNZEET</td>\n",
       "      <td>B0891SVRD6</td>\n",
       "      <td>9.99</td>\n",
       "      <td>4.3</td>\n",
       "      <td>24778.0</td>\n",
       "      <td>Clothing, Shoes &amp; Jewelry</td>\n",
       "      <td>Women's Compression Pants</td>\n",
       "      <td>2.0</td>\n",
       "      <td>1.0</td>\n",
       "      <td>14-Jun-20</td>\n",
       "      <td>NaN</td>\n",
       "      <td>8000.0</td>\n",
       "    </tr>\n",
       "    <tr>\n",
       "      <th>2</th>\n",
       "      <td>https://www.amazon.com/Carhartt-Acrylic-Watch-...</td>\n",
       "      <td>Carhartt Men's Knit Cuffed Beanie</td>\n",
       "      <td>Carhartt</td>\n",
       "      <td>B002G9UDYG</td>\n",
       "      <td>19.99</td>\n",
       "      <td>4.8</td>\n",
       "      <td>162373.0</td>\n",
       "      <td>Clothing, Shoes &amp; Jewelry</td>\n",
       "      <td>Men's Fashion</td>\n",
       "      <td>3.0</td>\n",
       "      <td>2.0</td>\n",
       "      <td>30-Apr-24</td>\n",
       "      <td>NaN</td>\n",
       "      <td>NaN</td>\n",
       "    </tr>\n",
       "    <tr>\n",
       "      <th>3</th>\n",
       "      <td>https://www.amazon.com/Hanes-Pullover-EcoSmart...</td>\n",
       "      <td>Hanes Men's EcoSmart Fleece Hoodie Sweatshirt</td>\n",
       "      <td>Hanes</td>\n",
       "      <td>B00JUM2VAQ</td>\n",
       "      <td>15.65</td>\n",
       "      <td>4.5</td>\n",
       "      <td>153666.0</td>\n",
       "      <td>Clothing, Shoes &amp; Jewelry</td>\n",
       "      <td>Men's Sweatshirts</td>\n",
       "      <td>4.0</td>\n",
       "      <td>2.0</td>\n",
       "      <td>14-Feb-24</td>\n",
       "      <td>Honduras</td>\n",
       "      <td>8000.0</td>\n",
       "    </tr>\n",
       "    <tr>\n",
       "      <th>4</th>\n",
       "      <td>https://www.amazon.com/CRZ-YOGA-Butterluxe-Wai...</td>\n",
       "      <td>CRZ YOGA Butterluxe High Waisted Lounge Leggin...</td>\n",
       "      <td>CRZ YOGA</td>\n",
       "      <td>B09P1GB319</td>\n",
       "      <td>32.00</td>\n",
       "      <td>4.6</td>\n",
       "      <td>11878.0</td>\n",
       "      <td>Clothing, Shoes &amp; Jewelry</td>\n",
       "      <td>Women's Yoga Leggings</td>\n",
       "      <td>5.0</td>\n",
       "      <td>1.0</td>\n",
       "      <td>4-Jun-24</td>\n",
       "      <td>USA</td>\n",
       "      <td>10000.0</td>\n",
       "    </tr>\n",
       "  </tbody>\n",
       "</table>\n",
       "</div>"
      ],
      "text/plain": [
       "                                         Product Url  \\\n",
       "0  https://www.amazon.com/Hanes-Ecosmart-Fleece-S...   \n",
       "1  https://www.amazon.com/TNNZEET-Waisted-Printed...   \n",
       "2  https://www.amazon.com/Carhartt-Acrylic-Watch-...   \n",
       "3  https://www.amazon.com/Hanes-Pullover-EcoSmart...   \n",
       "4  https://www.amazon.com/CRZ-YOGA-Butterluxe-Wai...   \n",
       "\n",
       "                                        Product Name     Brand  Product ID  \\\n",
       "0  Hanes EcoSmart Fleece, Cotton-Blend Pullover, ...     Hanes  B01L8JJ57U   \n",
       "1  High Waisted Leggings for Women - No See Throu...   TNNZEET  B0891SVRD6   \n",
       "2                  Carhartt Men's Knit Cuffed Beanie  Carhartt  B002G9UDYG   \n",
       "3      Hanes Men's EcoSmart Fleece Hoodie Sweatshirt     Hanes  B00JUM2VAQ   \n",
       "4  CRZ YOGA Butterluxe High Waisted Lounge Leggin...  CRZ YOGA  B09P1GB319   \n",
       "\n",
       "   Price  Rating  Number of Reviews            Parent Category  \\\n",
       "0  11.98     4.5           150640.0  Clothing, Shoes & Jewelry   \n",
       "1   9.99     4.3            24778.0  Clothing, Shoes & Jewelry   \n",
       "2  19.99     4.8           162373.0  Clothing, Shoes & Jewelry   \n",
       "3  15.65     4.5           153666.0  Clothing, Shoes & Jewelry   \n",
       "4  32.00     4.6            11878.0  Clothing, Shoes & Jewelry   \n",
       "\n",
       "                Sub Category  Sales Rank(in parent category)  \\\n",
       "0              Men's Fashion                             1.0   \n",
       "1  Women's Compression Pants                             2.0   \n",
       "2              Men's Fashion                             3.0   \n",
       "3          Men's Sweatshirts                             4.0   \n",
       "4      Women's Yoga Leggings                             5.0   \n",
       "\n",
       "   Sales Rank(in sub category) Release Date Country of Origin  \\\n",
       "0                          1.0    14-Jul-22       El Salvador   \n",
       "1                          1.0    14-Jun-20               NaN   \n",
       "2                          2.0    30-Apr-24               NaN   \n",
       "3                          2.0    14-Feb-24          Honduras   \n",
       "4                          1.0     4-Jun-24               USA   \n",
       "\n",
       "   Purchased in Last Month  \n",
       "0                   8000.0  \n",
       "1                   8000.0  \n",
       "2                      NaN  \n",
       "3                   8000.0  \n",
       "4                  10000.0  "
      ]
     },
     "execution_count": 63,
     "metadata": {},
     "output_type": "execute_result"
    }
   ],
   "source": [
    "df.head(5)"
   ]
  },
  {
   "cell_type": "code",
   "execution_count": 64,
   "metadata": {},
   "outputs": [
    {
     "name": "stdout",
     "output_type": "stream",
     "text": [
      "<class 'pandas.core.frame.DataFrame'>\n",
      "RangeIndex: 600 entries, 0 to 599\n",
      "Data columns (total 14 columns):\n",
      " #   Column                          Non-Null Count  Dtype  \n",
      "---  ------                          --------------  -----  \n",
      " 0   Product Url                     600 non-null    object \n",
      " 1   Product Name                    600 non-null    object \n",
      " 2   Brand                           600 non-null    object \n",
      " 3   Product ID                      597 non-null    object \n",
      " 4   Price                           600 non-null    float64\n",
      " 5   Rating                          597 non-null    float64\n",
      " 6   Number of Reviews               597 non-null    float64\n",
      " 7   Parent Category                 448 non-null    object \n",
      " 8   Sub Category                    446 non-null    object \n",
      " 9   Sales Rank(in parent category)  448 non-null    float64\n",
      " 10  Sales Rank(in sub category)     446 non-null    float64\n",
      " 11  Release Date                    465 non-null    object \n",
      " 12  Country of Origin               228 non-null    object \n",
      " 13  Purchased in Last Month         313 non-null    float64\n",
      "dtypes: float64(6), object(8)\n",
      "memory usage: 65.8+ KB\n"
     ]
    }
   ],
   "source": [
    "df.info()"
   ]
  },
  {
   "cell_type": "code",
   "execution_count": 65,
   "metadata": {},
   "outputs": [
    {
     "data": {
      "text/plain": [
       "Product Url                         0\n",
       "Product Name                        0\n",
       "Brand                               0\n",
       "Product ID                          3\n",
       "Price                               0\n",
       "Rating                              3\n",
       "Number of Reviews                   3\n",
       "Parent Category                   152\n",
       "Sub Category                      154\n",
       "Sales Rank(in parent category)    152\n",
       "Sales Rank(in sub category)       154\n",
       "Release Date                      135\n",
       "Country of Origin                 372\n",
       "Purchased in Last Month           287\n",
       "dtype: int64"
      ]
     },
     "execution_count": 65,
     "metadata": {},
     "output_type": "execute_result"
    }
   ],
   "source": [
    "df.isnull().sum()"
   ]
  },
  {
   "cell_type": "markdown",
   "metadata": {},
   "source": [
    "### Dealing with Product ID Missing Data"
   ]
  },
  {
   "cell_type": "code",
   "execution_count": 66,
   "metadata": {},
   "outputs": [],
   "source": [
    "df = df.dropna(subset=['Product ID'])\n"
   ]
  },
  {
   "cell_type": "code",
   "execution_count": 67,
   "metadata": {},
   "outputs": [
    {
     "name": "stdout",
     "output_type": "stream",
     "text": [
      "<class 'pandas.core.frame.DataFrame'>\n",
      "Index: 597 entries, 0 to 599\n",
      "Data columns (total 14 columns):\n",
      " #   Column                          Non-Null Count  Dtype  \n",
      "---  ------                          --------------  -----  \n",
      " 0   Product Url                     597 non-null    object \n",
      " 1   Product Name                    597 non-null    object \n",
      " 2   Brand                           597 non-null    object \n",
      " 3   Product ID                      597 non-null    object \n",
      " 4   Price                           597 non-null    float64\n",
      " 5   Rating                          597 non-null    float64\n",
      " 6   Number of Reviews               597 non-null    float64\n",
      " 7   Parent Category                 447 non-null    object \n",
      " 8   Sub Category                    445 non-null    object \n",
      " 9   Sales Rank(in parent category)  447 non-null    float64\n",
      " 10  Sales Rank(in sub category)     445 non-null    float64\n",
      " 11  Release Date                    462 non-null    object \n",
      " 12  Country of Origin               228 non-null    object \n",
      " 13  Purchased in Last Month         312 non-null    float64\n",
      "dtypes: float64(6), object(8)\n",
      "memory usage: 70.0+ KB\n"
     ]
    }
   ],
   "source": [
    "df.info()"
   ]
  },
  {
   "cell_type": "code",
   "execution_count": 68,
   "metadata": {},
   "outputs": [
    {
     "data": {
      "text/plain": [
       "0     8.0\n",
       "1    32.0\n",
       "2    48.0\n",
       "3    59.0\n",
       "4    62.0\n",
       "Name: Sales Rank(in parent category), dtype: float64"
      ]
     },
     "execution_count": 68,
     "metadata": {},
     "output_type": "execute_result"
    }
   ],
   "source": [
    "df['Sales Rank(in parent category)'].mode()"
   ]
  },
  {
   "cell_type": "code",
   "execution_count": 69,
   "metadata": {},
   "outputs": [
    {
     "data": {
      "text/plain": [
       "0    1.0\n",
       "Name: Sales Rank(in sub category), dtype: float64"
      ]
     },
     "execution_count": 69,
     "metadata": {},
     "output_type": "execute_result"
    }
   ],
   "source": [
    "df['Sales Rank(in sub category)'].mode()"
   ]
  },
  {
   "cell_type": "code",
   "execution_count": 70,
   "metadata": {},
   "outputs": [
    {
     "name": "stdout",
     "output_type": "stream",
     "text": [
      "51.0\n",
      "1.0\n"
     ]
    }
   ],
   "source": [
    "print(df['Sales Rank(in parent category)'].median())\n",
    "print(df['Sales Rank(in sub category)'].median())"
   ]
  },
  {
   "cell_type": "markdown",
   "metadata": {},
   "source": [
    "### Dealing with Missing Numerical Data"
   ]
  },
  {
   "cell_type": "code",
   "execution_count": 71,
   "metadata": {},
   "outputs": [],
   "source": [
    "df['Sales Rank(in parent category)'] = df['Sales Rank(in parent category)'].fillna(df['Sales Rank(in parent category)'].median())\n",
    "df['Sales Rank(in sub category)'] = df['Sales Rank(in sub category)'].fillna(df['Sales Rank(in sub category)'].median())\n",
    "df['Purchased in Last Month'] = df['Purchased in Last Month'].fillna(df['Purchased in Last Month'].mean())"
   ]
  },
  {
   "cell_type": "markdown",
   "metadata": {},
   "source": [
    "### Handling Data Types and Missing Values"
   ]
  },
  {
   "cell_type": "code",
   "execution_count": 72,
   "metadata": {},
   "outputs": [
    {
     "name": "stderr",
     "output_type": "stream",
     "text": [
      "C:\\Users\\Mominur\\AppData\\Local\\Temp\\ipykernel_13924\\3189190636.py:1: UserWarning: Could not infer format, so each element will be parsed individually, falling back to `dateutil`. To ensure parsing is consistent and as-expected, please specify a format.\n",
      "  df['Release Date'] = pd.to_datetime(df['Release Date'], errors='coerce')\n",
      "C:\\Users\\Mominur\\AppData\\Local\\Temp\\ipykernel_13924\\3189190636.py:2: FutureWarning: Series.fillna with 'method' is deprecated and will raise in a future version. Use obj.ffill() or obj.bfill() instead.\n",
      "  df['Release Date'] = df['Release Date'].fillna(method='ffill')\n"
     ]
    }
   ],
   "source": [
    "df['Release Date'] = pd.to_datetime(df['Release Date'], errors='coerce')\n",
    "df['Release Date'] = df['Release Date'].fillna(method='ffill')"
   ]
  },
  {
   "cell_type": "markdown",
   "metadata": {},
   "source": [
    "### Dealing with Missing Categorical Data"
   ]
  },
  {
   "cell_type": "code",
   "execution_count": 73,
   "metadata": {},
   "outputs": [],
   "source": [
    "df['Parent Category'] = df['Parent Category'].fillna('Unknown')\n",
    "df['Sub Category'] = df['Sub Category'].fillna('Unknown')\n",
    "df['Country of Origin'] = df['Country of Origin'].fillna('Unknown')\n"
   ]
  },
  {
   "cell_type": "code",
   "execution_count": 74,
   "metadata": {},
   "outputs": [
    {
     "name": "stdout",
     "output_type": "stream",
     "text": [
      "<class 'pandas.core.frame.DataFrame'>\n",
      "Index: 597 entries, 0 to 599\n",
      "Data columns (total 14 columns):\n",
      " #   Column                          Non-Null Count  Dtype         \n",
      "---  ------                          --------------  -----         \n",
      " 0   Product Url                     597 non-null    object        \n",
      " 1   Product Name                    597 non-null    object        \n",
      " 2   Brand                           597 non-null    object        \n",
      " 3   Product ID                      597 non-null    object        \n",
      " 4   Price                           597 non-null    float64       \n",
      " 5   Rating                          597 non-null    float64       \n",
      " 6   Number of Reviews               597 non-null    float64       \n",
      " 7   Parent Category                 597 non-null    object        \n",
      " 8   Sub Category                    597 non-null    object        \n",
      " 9   Sales Rank(in parent category)  597 non-null    float64       \n",
      " 10  Sales Rank(in sub category)     597 non-null    float64       \n",
      " 11  Release Date                    597 non-null    datetime64[ns]\n",
      " 12  Country of Origin               597 non-null    object        \n",
      " 13  Purchased in Last Month         597 non-null    float64       \n",
      "dtypes: datetime64[ns](1), float64(6), object(7)\n",
      "memory usage: 70.0+ KB\n"
     ]
    }
   ],
   "source": [
    "df.info()"
   ]
  },
  {
   "cell_type": "code",
   "execution_count": 75,
   "metadata": {},
   "outputs": [
    {
     "data": {
      "text/plain": [
       "Product Url                       0\n",
       "Product Name                      0\n",
       "Brand                             0\n",
       "Product ID                        0\n",
       "Price                             0\n",
       "Rating                            0\n",
       "Number of Reviews                 0\n",
       "Parent Category                   0\n",
       "Sub Category                      0\n",
       "Sales Rank(in parent category)    0\n",
       "Sales Rank(in sub category)       0\n",
       "Release Date                      0\n",
       "Country of Origin                 0\n",
       "Purchased in Last Month           0\n",
       "dtype: int64"
      ]
     },
     "execution_count": 75,
     "metadata": {},
     "output_type": "execute_result"
    }
   ],
   "source": [
    "df.isnull().sum()"
   ]
  },
  {
   "cell_type": "code",
   "execution_count": 76,
   "metadata": {},
   "outputs": [
    {
     "data": {
      "text/plain": [
       "Product Url                       597\n",
       "Product Name                      592\n",
       "Brand                             392\n",
       "Product ID                        594\n",
       "Price                             273\n",
       "Rating                             18\n",
       "Number of Reviews                 563\n",
       "Parent Category                    12\n",
       "Sub Category                      284\n",
       "Sales Rank(in parent category)    107\n",
       "Sales Rank(in sub category)        50\n",
       "Release Date                      409\n",
       "Country of Origin                  22\n",
       "Purchased in Last Month            25\n",
       "dtype: int64"
      ]
     },
     "execution_count": 76,
     "metadata": {},
     "output_type": "execute_result"
    }
   ],
   "source": [
    "df.nunique()"
   ]
  },
  {
   "cell_type": "code",
   "execution_count": 77,
   "metadata": {},
   "outputs": [
    {
     "data": {
      "text/plain": [
       "(597, 14)"
      ]
     },
     "execution_count": 77,
     "metadata": {},
     "output_type": "execute_result"
    }
   ],
   "source": [
    "df.shape"
   ]
  },
  {
   "cell_type": "code",
   "execution_count": 78,
   "metadata": {},
   "outputs": [],
   "source": [
    "df.drop_duplicates(inplace=True)"
   ]
  },
  {
   "cell_type": "code",
   "execution_count": 79,
   "metadata": {},
   "outputs": [
    {
     "data": {
      "text/plain": [
       "(597, 14)"
      ]
     },
     "execution_count": 79,
     "metadata": {},
     "output_type": "execute_result"
    }
   ],
   "source": [
    "df.shape"
   ]
  },
  {
   "cell_type": "markdown",
   "metadata": {},
   "source": [
    "### Save the preprocessing data in data folder as \"Preprocessed Amazon Best Sellers.csv\" file"
   ]
  },
  {
   "cell_type": "code",
   "execution_count": 82,
   "metadata": {},
   "outputs": [],
   "source": [
    "df.to_csv(\"../data/Preprocessed Amazon Best Sellers.csv\",index=False)"
   ]
  }
 ],
 "metadata": {
  "kernelspec": {
   "display_name": "venv",
   "language": "python",
   "name": "python3"
  },
  "language_info": {
   "codemirror_mode": {
    "name": "ipython",
    "version": 3
   },
   "file_extension": ".py",
   "mimetype": "text/x-python",
   "name": "python",
   "nbconvert_exporter": "python",
   "pygments_lexer": "ipython3",
   "version": "3.10.10"
  }
 },
 "nbformat": 4,
 "nbformat_minor": 2
}
